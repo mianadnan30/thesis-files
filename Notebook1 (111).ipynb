{
 "cells": [
  {
   "cell_type": "code",
   "execution_count": 1,
   "metadata": {},
   "outputs": [],
   "source": [
    "# Importing libraries\n",
    "import csv\n",
    "import pandas as pd\n",
    "import numpy as np\n",
    "from sklearn import linear_model, svm, preprocessing\n",
    "from sklearn.linear_model import LinearRegression, LogisticRegression\n",
    "import matplotlib.pyplot as plt\n",
    "import math\n",
    "from sklearn.model_selection import train_test_split\n",
    "from sklearn.model_selection import cross_val_score\n",
    "from sklearn.ensemble import RandomForestClassifier, RandomForestRegressor\n",
    "from sklearn.tree import DecisionTreeClassifier,DecisionTreeRegressor\n",
    "from sklearn.feature_selection import SelectKBest\n",
    "from sklearn.feature_selection import chi2"
   ]
  },
  {
   "cell_type": "code",
   "execution_count": 2,
   "metadata": {},
   "outputs": [],
   "source": [
    "# Reading the datasets\n",
    "data1 = pd.read_csv('wheat-2013-supervised.csv')\n",
    "data2 = pd.read_csv('wheat-2014-supervised.csv')"
   ]
  },
  {
   "cell_type": "code",
   "execution_count": 3,
   "metadata": {},
   "outputs": [],
   "source": [
    "# Merging two datasets\n",
    "merged = data1.append(data2, ignore_index=True)\n",
    "merged = merged[[\"CountyName\",\"State\",\"Latitude\",\"Longitude\",\"Date\",\"apparentTemperatureMax\",\"apparentTemperatureMin\",\"cloudCover\",\"dewPoint\",\"humidity\",\"precipIntensity\",\"precipIntensityMax\",\"precipProbability\",\"precipAccumulation\",\"precipTypeIsRain\",\"precipTypeIsSnow\",\"precipTypeIsOther\",\t\"pressure\",\t\"temperatureMax\",\"temperatureMin\",\"visibility\",\t\"windBearing\",\"windSpeed\",\"NDVI\",\"DayInSeason\",\"Yield\" ]]\n",
    "merged.to_csv('merged.csv', index=None, header=True)"
   ]
  },
  {
   "cell_type": "code",
   "execution_count": 4,
   "metadata": {},
   "outputs": [],
   "source": [
    "mg = pd.read_csv('merged.csv')\n",
    "mg = mg[[\"Latitude\",\"Longitude\",\"apparentTemperatureMax\",\"apparentTemperatureMin\",\"cloudCover\",\"dewPoint\",\"humidity\",\"precipIntensity\",\"precipIntensityMax\",\"precipProbability\",\"precipAccumulation\",\"precipTypeIsRain\",\"precipTypeIsSnow\",\"precipTypeIsOther\",\t\"pressure\",\t\"temperatureMax\",\"temperatureMin\",\"visibility\",\t\"windBearing\",\"windSpeed\",\"NDVI\",\"DayInSeason\",\"Yield\" ]]\n",
    "mg.dropna(inplace=True)\n",
    "mg = abs(mg)"
   ]
  },
  {
   "cell_type": "code",
   "execution_count": 12,
   "metadata": {},
   "outputs": [
    {
     "name": "stdout",
     "output_type": "stream",
     "text": [
      "(359427, 23)\n"
     ]
    }
   ],
   "source": [
    "print (mg.shape)\n"
   ]
  },
  {
   "cell_type": "code",
   "execution_count": 25,
   "metadata": {},
   "outputs": [],
   "source": [
    "X = mg.iloc[:,0:22]  #independent columns\n",
    "y = mg.iloc[:,-23]    #target column i.e price range\n",
    "y=y.astype('int')\n"
   ]
  },
  {
   "cell_type": "code",
   "execution_count": 7,
   "metadata": {},
   "outputs": [],
   "source": [
    "# Determining the best features from the data\n",
    "# Applying SelectKBest class to extract top 10 best features\n",
    "bestfeatures = SelectKBest(score_func=chi2, k=10)\n",
    "fit = bestfeatures.fit(X,y)\n",
    "dfscores = pd.DataFrame(fit.scores_)\n",
    "dfcolumns = pd.DataFrame(X.columns)\n",
    "#concat two dataframes for better visualization \n",
    "featureScores = pd.concat([dfcolumns,dfscores],axis=1)\n",
    "featureScores.columns = ['Specs','Score']  #naming the dataframe columns\n"
   ]
  },
  {
   "cell_type": "code",
   "execution_count": 8,
   "metadata": {},
   "outputs": [
    {
     "name": "stdout",
     "output_type": "stream",
     "text": [
      "                     Specs          Score\n",
      "18             windBearing  584431.000407\n",
      "3   apparentTemperatureMin  490523.148008\n",
      "5                 dewPoint  388245.325492\n",
      "2   apparentTemperatureMax  379951.701286\n",
      "16          temperatureMin  372298.742126\n",
      "15          temperatureMax  290953.292597\n",
      "0                 Latitude  233754.438546\n",
      "1                Longitude   97060.962816\n",
      "20                    NDVI   35048.564785\n",
      "19               windSpeed   25328.273283\n"
     ]
    }
   ],
   "source": [
    "print(featureScores.nlargest(10,'Score'))  #print 10 best features\n"
   ]
  },
  {
   "cell_type": "code",
   "execution_count": 9,
   "metadata": {},
   "outputs": [
    {
     "name": "stderr",
     "output_type": "stream",
     "text": [
      "c:\\python27\\lib\\site-packages\\sklearn\\ensemble\\forest.py:246: FutureWarning: The default value of n_estimators will change from 10 in version 0.20 to 100 in 0.22.\n",
      "  \"10 in version 0.20 to 100 in 0.22.\", FutureWarning)\n"
     ]
    },
    {
     "name": "stdout",
     "output_type": "stream",
     "text": [
      "[0.47897876 0.09980957 0.0293743  0.03023236 0.03014479 0.03073437\n",
      " 0.0282732  0.00842512 0.00827309 0.00915986 0.00182215 0.00285161\n",
      " 0.00156185 0.         0.03354577 0.02985115 0.03064849 0.02483537\n",
      " 0.03294126 0.03072755 0.02811002 0.02969938]\n"
     ]
    },
    {
     "data": {
      "image/png": "[encoded data removed]",
      "text/plain": [
       "<Figure size 432x288 with 1 Axes>"
      ]
     },
     "metadata": {
      "needs_background": "light"
     },
     "output_type": "display_data"
    }
   ],
   "source": [
    "# Verify the results of aboove method by using feature importance method\n",
    "from sklearn.ensemble import ExtraTreesClassifier\n",
    "import matplotlib.pyplot as plt\n",
    "model = ExtraTreesClassifier()\n",
    "model.fit(X,y)\n",
    "print(model.feature_importances_) #use inbuilt class feature_importances of tree based classifiers\n",
    "#plot graph of feature importances for better visualization\n",
    "feat_importances = pd.Series(model.feature_importances_, index=X.columns)\n",
    "feat_importances.nlargest(10).plot(kind='barh')\n",
    "plt.show()"
   ]
  },
  {
   "cell_type": "code",
   "execution_count": 7,
   "metadata": {},
   "outputs": [],
   "source": [
    "# mg = mg[[\"Latitude\",\"Longitude\",\"apparentTemperatureMax\",\"apparentTemperatureMin\",\"dewPoint\",\t\"temperatureMax\",\"temperatureMin\",\t\"windBearing\",\"windSpeed\",\"NDVI\",\"Yield\" ]]\n",
    "mg = mg[1:10000]\n",
    "X = np.array(mg.drop([\"Yield\"],1))\n",
    "y = np.asarray(mg['Yield'],dtype= np.int64)\n",
    "X_train, X_test, y_train, y_test = train_test_split(X, y, test_size=0.3)\n"
   ]
  },
  {
   "cell_type": "code",
   "execution_count": 15,
   "metadata": {},
   "outputs": [
    {
     "name": "stdout",
     "output_type": "stream",
     "text": [
      "0.411\n"
     ]
    }
   ],
   "source": [
    "X_train, X_test, y_train, y_test = train_test_split(X, y, test_size=0.3)\n",
    "# Applying Decision Tree Classifier with prunning\n",
    "clf = DecisionTreeClassifier(max_depth=5, min_samples_split=2,max_leaf_nodes = 45, \n",
    "                             min_samples_leaf = 6 , random_state=1)\n",
    "clf.fit(X_train, y_train)\n",
    "accuracy = clf.score(X_test, y_test)\n",
    "print(accuracy)"
   ]
  },
  {
   "cell_type": "code",
   "execution_count": 24,
   "metadata": {},
   "outputs": [
    {
     "name": "stdout",
     "output_type": "stream",
     "text": [
      "0.6763654809693337\n"
     ]
    }
   ],
   "source": [
    "X_train, X_test, y_train, y_test = train_test_split(X, y, test_size=0.3)\n",
    "clf = DecisionTreeRegressor(max_depth=2, min_samples_split=2,max_leaf_nodes = 6, \n",
    "                             min_samples_leaf = 3 , random_state=2)\n",
    "clf.fit(X_train, y_train)\n",
    "accuracy = clf.score(X_test, y_test)\n",
    "print(accuracy)"
   ]
  },
  {
   "cell_type": "code",
   "execution_count": 27,
   "metadata": {},
   "outputs": [
    {
     "data": {
      "text/plain": [
       "0.5093333333333333"
      ]
     },
     "execution_count": 27,
     "metadata": {},
     "output_type": "execute_result"
    }
   ],
   "source": [
    "X_train, X_test, y_train, y_test = train_test_split(X, y, test_size=0.3)\n",
    "lm = LogisticRegression(C=10.0, random_state=0)\n",
    "model = lm.fit(X_train, y_train)\n",
    "# cross_val_score(model, X_test, y_test)\n",
    "model.score(X_test, y_test)\n"
   ]
  },
  {
   "cell_type": "code",
   "execution_count": 26,
   "metadata": {},
   "outputs": [
    {
     "data": {
      "text/plain": [
       "array([51, 54, 45, ..., 23, 63, 21], dtype=int64)"
      ]
     },
     "execution_count": 26,
     "metadata": {},
     "output_type": "execute_result"
    }
   ],
   "source": [
    "y_train"
   ]
  },
  {
   "cell_type": "code",
   "execution_count": 112,
   "metadata": {},
   "outputs": [
    {
     "data": {
      "text/plain": [
       "(array([28.55182785, 26.00582573, 28.06266655, ..., 35.61311432,\n",
       "        42.54248349, 34.03359896]),\n",
       " array([12.7, 14. , 42.4, ..., 27.3, 32.3, 43.8]))"
      ]
     },
     "execution_count": 112,
     "metadata": {},
     "output_type": "execute_result"
    }
   ],
   "source": [
    "y_pred = model.predict(X_test)\n",
    "y_pred,y_test"
   ]
  },
  {
   "cell_type": "code",
   "execution_count": 19,
   "metadata": {},
   "outputs": [
    {
     "name": "stdout",
     "output_type": "stream",
     "text": [
      "0.6361491551053441\n"
     ]
    }
   ],
   "source": [
    "# Code for Random Forest\n",
    "X_train, X_test, y_train, y_test = train_test_split(X, y, test_size=0.3)\n",
    "# create regressor object \n",
    "regressor = RandomForestRegressor(n_estimators = 100, random_state = 0,max_depth=2,min_samples_leaf = 3 ) \n",
    "  \n",
    "# fit the regressor with x and y data \n",
    "regressor.fit(X_train, y_train) \n",
    "accuracy = regressor.score(X_test, y_test)\n",
    "print(accuracy)"
   ]
  },
  {
   "cell_type": "code",
   "execution_count": null,
   "metadata": {},
   "outputs": [],
   "source": [
    "#Code for SVM\n",
    "#clf = svm.SVR(kernel=\"poly\")\n",
    "#clf.fit(X, y)\n",
    "X_train, X_test, y_train, y_test = train_test_split(X, y, test_size=0.2)\n",
    "clf = svm.SVC(kernel='linear')\n",
    "# cross_val_score(clf, X, y)\n",
    "clf.fit(X_train, y_train)\n",
    "accuracy = clf.score(X_test, y_test)\n",
    "print(accuracy)"
   ]
  },
  {
   "cell_type": "code",
   "execution_count": null,
   "metadata": {},
   "outputs": [],
   "source": []
  }
 ],
 "metadata": {
  "kernelspec": {
   "display_name": "Python 2",
   "language": "python",
   "name": "python2"
  },
  "language_info": {
   "codemirror_mode": {
    "name": "ipython",
    "version": 2
   },
   "file_extension": ".py",
   "mimetype": "text/x-python",
   "name": "python",
   "nbconvert_exporter": "python",
   "pygments_lexer": "ipython2",
   "version": "2.7.15"
  }
 },
 "nbformat": 4,
 "nbformat_minor": 2
}
