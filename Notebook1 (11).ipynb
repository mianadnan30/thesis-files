{
 "cells": [
  {
   "cell_type": "code",
   "execution_count": 1,
   "metadata": {},
   "outputs": [],
   "source": [
    "# Importing libraries\n",
    "import csv\n",
    "import pandas as pd\n",
    "import numpy as np\n",
    "from sklearn import linear_model, svm, preprocessing\n",
    "from sklearn.linear_model import LinearRegression, LogisticRegression\n",
    "import matplotlib.pyplot as plt\n",
    "import math\n",
    "from sklearn.model_selection import train_test_split\n",
    "from sklearn.model_selection import cross_val_score\n",
    "from sklearn.ensemble import RandomForestClassifier, RandomForestRegressor\n",
    "from sklearn.tree import DecisionTreeClassifier,DecisionTreeRegressor\n",
    "from sklearn.feature_selection import SelectKBest\n",
    "from sklearn.feature_selection import chi2"
   ]
  },
  {
   "cell_type": "code",
   "execution_count": 2,
   "metadata": {},
   "outputs": [],
   "source": [
    "# Reading the datasets\n",
    "data1 = pd.read_csv('wheat-2013-supervised.csv')\n",
    "data2 = pd.read_csv('wheat-2014-supervised.csv')"
   ]
  },
  {
   "cell_type": "code",
   "execution_count": 3,
   "metadata": {},
   "outputs": [],
   "source": [
    "# Merging two datasets\n",
    "merged = data1.append(data2, ignore_index=True)\n",
    "merged = merged[[\"CountyName\",\"State\",\"Latitude\",\"Longitude\",\"Date\",\"apparentTemperatureMax\",\"apparentTemperatureMin\",\"cloudCover\",\"dewPoint\",\"humidity\",\"precipIntensity\",\"precipIntensityMax\",\"precipProbability\",\"precipAccumulation\",\"precipTypeIsRain\",\"precipTypeIsSnow\",\"precipTypeIsOther\",\t\"pressure\",\t\"temperatureMax\",\"temperatureMin\",\"visibility\",\t\"windBearing\",\"windSpeed\",\"NDVI\",\"DayInSeason\",\"Yield\" ]]\n",
    "merged.to_csv('merged.csv', index=None, header=True)"
   ]
  },
  {
   "cell_type": "code",
   "execution_count": 4,
   "metadata": {},
   "outputs": [],
   "source": [
    "mg = pd.read_csv('merged.csv')\n",
    "mg = mg[[\"Latitude\",\"Longitude\",\"apparentTemperatureMax\",\"apparentTemperatureMin\",\"cloudCover\",\"dewPoint\",\"humidity\",\"precipIntensity\",\"precipIntensityMax\",\"precipProbability\",\"precipAccumulation\",\"precipTypeIsRain\",\"precipTypeIsSnow\",\"precipTypeIsOther\",\t\"pressure\",\t\"temperatureMax\",\"temperatureMin\",\"visibility\",\t\"windBearing\",\"windSpeed\",\"NDVI\",\"DayInSeason\",\"Yield\" ]]\n",
    "mg.dropna(inplace=True)\n",
    "mg = abs(mg)"
   ]
  },
  {
   "cell_type": "code",
   "execution_count": 5,
   "metadata": {},
   "outputs": [
    {
     "name": "stdout",
     "output_type": "stream",
     "text": [
      "(359427, 23)\n"
     ]
    }
   ],
   "source": [
    "print (mg.shape)\n"
   ]
  },
  {
   "cell_type": "code",
   "execution_count": 6,
   "metadata": {},
   "outputs": [
    {
     "data": {
      "text/html": [
       "<div>\n",
       "<style scoped>\n",
       "    .dataframe tbody tr th:only-of-type {\n",
       "        vertical-align: middle;\n",
       "    }\n",
       "\n",
       "    .dataframe tbody tr th {\n",
       "        vertical-align: top;\n",
       "    }\n",
       "\n",
       "    .dataframe thead th {\n",
       "        text-align: right;\n",
       "    }\n",
       "</style>\n",
       "<table border=\"1\" class=\"dataframe\">\n",
       "  <thead>\n",
       "    <tr style=\"text-align: right;\">\n",
       "      <th></th>\n",
       "      <th>Latitude</th>\n",
       "      <th>Longitude</th>\n",
       "      <th>apparentTemperatureMax</th>\n",
       "      <th>apparentTemperatureMin</th>\n",
       "      <th>cloudCover</th>\n",
       "      <th>dewPoint</th>\n",
       "      <th>humidity</th>\n",
       "      <th>precipIntensity</th>\n",
       "      <th>precipIntensityMax</th>\n",
       "      <th>precipProbability</th>\n",
       "      <th>...</th>\n",
       "      <th>precipTypeIsSnow</th>\n",
       "      <th>precipTypeIsOther</th>\n",
       "      <th>pressure</th>\n",
       "      <th>temperatureMax</th>\n",
       "      <th>temperatureMin</th>\n",
       "      <th>visibility</th>\n",
       "      <th>windBearing</th>\n",
       "      <th>windSpeed</th>\n",
       "      <th>NDVI</th>\n",
       "      <th>DayInSeason</th>\n",
       "    </tr>\n",
       "  </thead>\n",
       "  <tbody>\n",
       "    <tr>\n",
       "      <th>0</th>\n",
       "      <td>46.811686</td>\n",
       "      <td>118.695237</td>\n",
       "      <td>35.70</td>\n",
       "      <td>20.85</td>\n",
       "      <td>0.00</td>\n",
       "      <td>29.53</td>\n",
       "      <td>0.91</td>\n",
       "      <td>0.0000</td>\n",
       "      <td>0.0000</td>\n",
       "      <td>0.00</td>\n",
       "      <td>...</td>\n",
       "      <td>0.0</td>\n",
       "      <td>0.0</td>\n",
       "      <td>1027.13</td>\n",
       "      <td>35.70</td>\n",
       "      <td>27.48</td>\n",
       "      <td>2.46</td>\n",
       "      <td>214.0</td>\n",
       "      <td>1.18</td>\n",
       "      <td>134.110657</td>\n",
       "      <td>0.0</td>\n",
       "    </tr>\n",
       "    <tr>\n",
       "      <th>1</th>\n",
       "      <td>46.929839</td>\n",
       "      <td>118.352109</td>\n",
       "      <td>35.10</td>\n",
       "      <td>26.92</td>\n",
       "      <td>0.00</td>\n",
       "      <td>29.77</td>\n",
       "      <td>0.93</td>\n",
       "      <td>0.0001</td>\n",
       "      <td>0.0019</td>\n",
       "      <td>0.05</td>\n",
       "      <td>...</td>\n",
       "      <td>0.0</td>\n",
       "      <td>0.0</td>\n",
       "      <td>1026.87</td>\n",
       "      <td>35.10</td>\n",
       "      <td>26.92</td>\n",
       "      <td>2.83</td>\n",
       "      <td>166.0</td>\n",
       "      <td>1.01</td>\n",
       "      <td>131.506592</td>\n",
       "      <td>0.0</td>\n",
       "    </tr>\n",
       "    <tr>\n",
       "      <th>2</th>\n",
       "      <td>47.006888</td>\n",
       "      <td>118.510160</td>\n",
       "      <td>33.38</td>\n",
       "      <td>26.95</td>\n",
       "      <td>0.00</td>\n",
       "      <td>29.36</td>\n",
       "      <td>0.94</td>\n",
       "      <td>0.0001</td>\n",
       "      <td>0.0022</td>\n",
       "      <td>0.06</td>\n",
       "      <td>...</td>\n",
       "      <td>1.0</td>\n",
       "      <td>0.0</td>\n",
       "      <td>1026.88</td>\n",
       "      <td>33.38</td>\n",
       "      <td>26.95</td>\n",
       "      <td>2.95</td>\n",
       "      <td>158.0</td>\n",
       "      <td>1.03</td>\n",
       "      <td>131.472946</td>\n",
       "      <td>0.0</td>\n",
       "    </tr>\n",
       "    <tr>\n",
       "      <th>3</th>\n",
       "      <td>47.162342</td>\n",
       "      <td>118.699677</td>\n",
       "      <td>28.05</td>\n",
       "      <td>25.93</td>\n",
       "      <td>0.91</td>\n",
       "      <td>29.47</td>\n",
       "      <td>0.94</td>\n",
       "      <td>0.0002</td>\n",
       "      <td>0.0039</td>\n",
       "      <td>0.15</td>\n",
       "      <td>...</td>\n",
       "      <td>1.0</td>\n",
       "      <td>0.0</td>\n",
       "      <td>1026.37</td>\n",
       "      <td>33.19</td>\n",
       "      <td>27.17</td>\n",
       "      <td>2.89</td>\n",
       "      <td>153.0</td>\n",
       "      <td>1.84</td>\n",
       "      <td>131.288300</td>\n",
       "      <td>0.0</td>\n",
       "    </tr>\n",
       "    <tr>\n",
       "      <th>4</th>\n",
       "      <td>47.157512</td>\n",
       "      <td>118.434056</td>\n",
       "      <td>28.83</td>\n",
       "      <td>25.98</td>\n",
       "      <td>0.91</td>\n",
       "      <td>29.86</td>\n",
       "      <td>0.94</td>\n",
       "      <td>0.0003</td>\n",
       "      <td>0.0055</td>\n",
       "      <td>0.24</td>\n",
       "      <td>...</td>\n",
       "      <td>0.0</td>\n",
       "      <td>0.0</td>\n",
       "      <td>1026.19</td>\n",
       "      <td>33.85</td>\n",
       "      <td>27.07</td>\n",
       "      <td>2.97</td>\n",
       "      <td>156.0</td>\n",
       "      <td>1.85</td>\n",
       "      <td>131.288300</td>\n",
       "      <td>0.0</td>\n",
       "    </tr>\n",
       "    <tr>\n",
       "      <th>...</th>\n",
       "      <td>...</td>\n",
       "      <td>...</td>\n",
       "      <td>...</td>\n",
       "      <td>...</td>\n",
       "      <td>...</td>\n",
       "      <td>...</td>\n",
       "      <td>...</td>\n",
       "      <td>...</td>\n",
       "      <td>...</td>\n",
       "      <td>...</td>\n",
       "      <td>...</td>\n",
       "      <td>...</td>\n",
       "      <td>...</td>\n",
       "      <td>...</td>\n",
       "      <td>...</td>\n",
       "      <td>...</td>\n",
       "      <td>...</td>\n",
       "      <td>...</td>\n",
       "      <td>...</td>\n",
       "      <td>...</td>\n",
       "      <td>...</td>\n",
       "    </tr>\n",
       "    <tr>\n",
       "      <th>360037</th>\n",
       "      <td>38.693595</td>\n",
       "      <td>94.671846</td>\n",
       "      <td>75.44</td>\n",
       "      <td>64.29</td>\n",
       "      <td>0.13</td>\n",
       "      <td>62.74</td>\n",
       "      <td>0.84</td>\n",
       "      <td>0.0211</td>\n",
       "      <td>0.2280</td>\n",
       "      <td>0.86</td>\n",
       "      <td>...</td>\n",
       "      <td>0.0</td>\n",
       "      <td>0.0</td>\n",
       "      <td>1013.01</td>\n",
       "      <td>75.44</td>\n",
       "      <td>64.29</td>\n",
       "      <td>9.31</td>\n",
       "      <td>133.0</td>\n",
       "      <td>6.26</td>\n",
       "      <td>134.803101</td>\n",
       "      <td>185.0</td>\n",
       "    </tr>\n",
       "    <tr>\n",
       "      <th>360038</th>\n",
       "      <td>38.603699</td>\n",
       "      <td>94.992247</td>\n",
       "      <td>75.47</td>\n",
       "      <td>64.49</td>\n",
       "      <td>0.13</td>\n",
       "      <td>62.83</td>\n",
       "      <td>0.84</td>\n",
       "      <td>0.0206</td>\n",
       "      <td>0.2074</td>\n",
       "      <td>0.85</td>\n",
       "      <td>...</td>\n",
       "      <td>0.0</td>\n",
       "      <td>0.0</td>\n",
       "      <td>1012.99</td>\n",
       "      <td>75.47</td>\n",
       "      <td>64.49</td>\n",
       "      <td>9.29</td>\n",
       "      <td>132.0</td>\n",
       "      <td>6.29</td>\n",
       "      <td>133.913879</td>\n",
       "      <td>185.0</td>\n",
       "    </tr>\n",
       "    <tr>\n",
       "      <th>360039</th>\n",
       "      <td>38.580826</td>\n",
       "      <td>94.794660</td>\n",
       "      <td>75.40</td>\n",
       "      <td>64.43</td>\n",
       "      <td>0.13</td>\n",
       "      <td>62.77</td>\n",
       "      <td>0.84</td>\n",
       "      <td>0.0212</td>\n",
       "      <td>0.2172</td>\n",
       "      <td>0.86</td>\n",
       "      <td>...</td>\n",
       "      <td>0.0</td>\n",
       "      <td>0.0</td>\n",
       "      <td>1013.01</td>\n",
       "      <td>75.40</td>\n",
       "      <td>64.43</td>\n",
       "      <td>9.28</td>\n",
       "      <td>132.0</td>\n",
       "      <td>6.27</td>\n",
       "      <td>129.938950</td>\n",
       "      <td>185.0</td>\n",
       "    </tr>\n",
       "    <tr>\n",
       "      <th>360040</th>\n",
       "      <td>38.564866</td>\n",
       "      <td>94.748021</td>\n",
       "      <td>75.35</td>\n",
       "      <td>64.44</td>\n",
       "      <td>0.13</td>\n",
       "      <td>62.74</td>\n",
       "      <td>0.84</td>\n",
       "      <td>0.0214</td>\n",
       "      <td>0.2177</td>\n",
       "      <td>0.86</td>\n",
       "      <td>...</td>\n",
       "      <td>0.0</td>\n",
       "      <td>0.0</td>\n",
       "      <td>1013.01</td>\n",
       "      <td>75.35</td>\n",
       "      <td>64.44</td>\n",
       "      <td>9.28</td>\n",
       "      <td>132.0</td>\n",
       "      <td>6.26</td>\n",
       "      <td>129.938950</td>\n",
       "      <td>185.0</td>\n",
       "    </tr>\n",
       "    <tr>\n",
       "      <th>360041</th>\n",
       "      <td>38.392008</td>\n",
       "      <td>94.855430</td>\n",
       "      <td>75.27</td>\n",
       "      <td>64.57</td>\n",
       "      <td>0.13</td>\n",
       "      <td>62.72</td>\n",
       "      <td>0.84</td>\n",
       "      <td>0.0214</td>\n",
       "      <td>0.2077</td>\n",
       "      <td>0.85</td>\n",
       "      <td>...</td>\n",
       "      <td>0.0</td>\n",
       "      <td>0.0</td>\n",
       "      <td>1013.00</td>\n",
       "      <td>75.27</td>\n",
       "      <td>64.57</td>\n",
       "      <td>9.26</td>\n",
       "      <td>132.0</td>\n",
       "      <td>6.23</td>\n",
       "      <td>129.784332</td>\n",
       "      <td>185.0</td>\n",
       "    </tr>\n",
       "  </tbody>\n",
       "</table>\n",
       "<p>359427 rows × 22 columns</p>\n",
       "</div>"
      ],
      "text/plain": [
       "         Latitude   Longitude  apparentTemperatureMax  apparentTemperatureMin  \\\n",
       "0       46.811686  118.695237                   35.70                   20.85   \n",
       "1       46.929839  118.352109                   35.10                   26.92   \n",
       "2       47.006888  118.510160                   33.38                   26.95   \n",
       "3       47.162342  118.699677                   28.05                   25.93   \n",
       "4       47.157512  118.434056                   28.83                   25.98   \n",
       "...           ...         ...                     ...                     ...   \n",
       "360037  38.693595   94.671846                   75.44                   64.29   \n",
       "360038  38.603699   94.992247                   75.47                   64.49   \n",
       "360039  38.580826   94.794660                   75.40                   64.43   \n",
       "360040  38.564866   94.748021                   75.35                   64.44   \n",
       "360041  38.392008   94.855430                   75.27                   64.57   \n",
       "\n",
       "        cloudCover  dewPoint  humidity  precipIntensity  precipIntensityMax  \\\n",
       "0             0.00     29.53      0.91           0.0000              0.0000   \n",
       "1             0.00     29.77      0.93           0.0001              0.0019   \n",
       "2             0.00     29.36      0.94           0.0001              0.0022   \n",
       "3             0.91     29.47      0.94           0.0002              0.0039   \n",
       "4             0.91     29.86      0.94           0.0003              0.0055   \n",
       "...            ...       ...       ...              ...                 ...   \n",
       "360037        0.13     62.74      0.84           0.0211              0.2280   \n",
       "360038        0.13     62.83      0.84           0.0206              0.2074   \n",
       "360039        0.13     62.77      0.84           0.0212              0.2172   \n",
       "360040        0.13     62.74      0.84           0.0214              0.2177   \n",
       "360041        0.13     62.72      0.84           0.0214              0.2077   \n",
       "\n",
       "        precipProbability  ...  precipTypeIsSnow  precipTypeIsOther  pressure  \\\n",
       "0                    0.00  ...               0.0                0.0   1027.13   \n",
       "1                    0.05  ...               0.0                0.0   1026.87   \n",
       "2                    0.06  ...               1.0                0.0   1026.88   \n",
       "3                    0.15  ...               1.0                0.0   1026.37   \n",
       "4                    0.24  ...               0.0                0.0   1026.19   \n",
       "...                   ...  ...               ...                ...       ...   \n",
       "360037               0.86  ...               0.0                0.0   1013.01   \n",
       "360038               0.85  ...               0.0                0.0   1012.99   \n",
       "360039               0.86  ...               0.0                0.0   1013.01   \n",
       "360040               0.86  ...               0.0                0.0   1013.01   \n",
       "360041               0.85  ...               0.0                0.0   1013.00   \n",
       "\n",
       "        temperatureMax  temperatureMin  visibility  windBearing  windSpeed  \\\n",
       "0                35.70           27.48        2.46        214.0       1.18   \n",
       "1                35.10           26.92        2.83        166.0       1.01   \n",
       "2                33.38           26.95        2.95        158.0       1.03   \n",
       "3                33.19           27.17        2.89        153.0       1.84   \n",
       "4                33.85           27.07        2.97        156.0       1.85   \n",
       "...                ...             ...         ...          ...        ...   \n",
       "360037           75.44           64.29        9.31        133.0       6.26   \n",
       "360038           75.47           64.49        9.29        132.0       6.29   \n",
       "360039           75.40           64.43        9.28        132.0       6.27   \n",
       "360040           75.35           64.44        9.28        132.0       6.26   \n",
       "360041           75.27           64.57        9.26        132.0       6.23   \n",
       "\n",
       "              NDVI  DayInSeason  \n",
       "0       134.110657          0.0  \n",
       "1       131.506592          0.0  \n",
       "2       131.472946          0.0  \n",
       "3       131.288300          0.0  \n",
       "4       131.288300          0.0  \n",
       "...            ...          ...  \n",
       "360037  134.803101        185.0  \n",
       "360038  133.913879        185.0  \n",
       "360039  129.938950        185.0  \n",
       "360040  129.938950        185.0  \n",
       "360041  129.784332        185.0  \n",
       "\n",
       "[359427 rows x 22 columns]"
      ]
     },
     "execution_count": 6,
     "metadata": {},
     "output_type": "execute_result"
    }
   ],
   "source": [
    "X = mg.iloc[:,0:22]  #independent columns\n",
    "y = mg.iloc[:,-23]    #target column i.e price range\n",
    "y=y.astype('int')\n",
    "X"
   ]
  },
  {
   "cell_type": "code",
   "execution_count": 7,
   "metadata": {},
   "outputs": [],
   "source": [
    "# Determining the best features from the data\n",
    "# Applying SelectKBest class to extract top 10 best features\n",
    "bestfeatures = SelectKBest(score_func=chi2, k=10)\n",
    "fit = bestfeatures.fit(X,y)\n",
    "dfscores = pd.DataFrame(fit.scores_)\n",
    "dfcolumns = pd.DataFrame(X.columns)\n",
    "#concat two dataframes for better visualization \n",
    "featureScores = pd.concat([dfcolumns,dfscores],axis=1)\n",
    "featureScores.columns = ['Specs','Score']  #naming the dataframe columns\n"
   ]
  },
  {
   "cell_type": "code",
   "execution_count": 8,
   "metadata": {},
   "outputs": [
    {
     "name": "stdout",
     "output_type": "stream",
     "text": [
      "                     Specs          Score\n",
      "18             windBearing  584431.000407\n",
      "3   apparentTemperatureMin  490523.148008\n",
      "5                 dewPoint  388245.325492\n",
      "2   apparentTemperatureMax  379951.701286\n",
      "16          temperatureMin  372298.742126\n",
      "15          temperatureMax  290953.292597\n",
      "0                 Latitude  233754.438546\n",
      "1                Longitude   97060.962816\n",
      "20                    NDVI   35048.564785\n",
      "19               windSpeed   25328.273283\n"
     ]
    }
   ],
   "source": [
    "print(featureScores.nlargest(10,'Score'))  #print 10 best features\n"
   ]
  },
  {
   "cell_type": "code",
   "execution_count": 9,
   "metadata": {},
   "outputs": [
    {
     "name": "stdout",
     "output_type": "stream",
     "text": [
      "[0.45417846 0.10641279 0.03044742 0.03106739 0.03137453 0.03241154\n",
      " 0.02910026 0.0090136  0.00878302 0.00976205 0.00201189 0.00383102\n",
      " 0.00170573 0.         0.03495032 0.03147238 0.03246162 0.02560428\n",
      " 0.03433404 0.03188854 0.02824402 0.03094512]\n"
     ]
    },
    {
     "data": {
      "image/png": "[encoded data removed]",
      "text/plain": [
       "<Figure size 432x288 with 1 Axes>"
      ]
     },
     "metadata": {
      "needs_background": "light"
     },
     "output_type": "display_data"
    }
   ],
   "source": [
    "# Verify the results of aboove method by using feature importance method\n",
    "from sklearn.ensemble import ExtraTreesClassifier\n",
    "import matplotlib.pyplot as plt\n",
    "model = ExtraTreesClassifier()\n",
    "model.fit(X,y)\n",
    "print(model.feature_importances_) #use inbuilt class feature_importances of tree based classifiers\n",
    "#plot graph of feature importances for better visualization\n",
    "feat_importances = pd.Series(model.feature_importances_, index=X.columns)\n",
    "feat_importances.nlargest(10).plot(kind='barh')\n",
    "plt.show()"
   ]
  },
  {
   "cell_type": "code",
   "execution_count": 10,
   "metadata": {},
   "outputs": [],
   "source": [
    "# mg = mg[[\"Latitude\",\"Longitude\",\"apparentTemperatureMax\",\"apparentTemperatureMin\",\"dewPoint\",\t\"temperatureMax\",\"temperatureMin\",\t\"windBearing\",\"windSpeed\",\"NDVI\",\"Yield\" ]]\n",
    "mg = mg[1:10000]\n",
    "X = np.array(mg.drop([\"Yield\"],1))\n",
    "y = np.asarray(mg['Yield'],dtype= np.int64)\n"
   ]
  },
  {
   "cell_type": "code",
   "execution_count": 11,
   "metadata": {},
   "outputs": [
    {
     "name": "stdout",
     "output_type": "stream",
     "text": [
      "0.2876666666666667\n"
     ]
    }
   ],
   "source": [
    "# Applying Decision Tree Classifier with prunning\n",
    "X_train, X_test, y_train, y_test = train_test_split(X, y, test_size=0.3)\n",
    "clf = DecisionTreeClassifier(max_depth=5, min_samples_split=2,max_leaf_nodes = 45, \n",
    "                             min_samples_leaf = 6 , random_state=1)\n",
    "clf.fit(X_train, y_train)\n",
    "accuracy = clf.score(X_test, y_test)\n",
    "print(accuracy)"
   ]
  },
  {
   "cell_type": "code",
   "execution_count": 12,
   "metadata": {},
   "outputs": [
    {
     "name": "stdout",
     "output_type": "stream",
     "text": [
      "0.619717978000977\n"
     ]
    }
   ],
   "source": [
    "clf = DecisionTreeRegressor(max_depth=2, min_samples_split=2,max_leaf_nodes = 6, \n",
    "                             min_samples_leaf = 3 , random_state=2)\n",
    "clf.fit(X_train, y_train)\n",
    "accuracy = clf.score(X_test, y_test)\n",
    "print(accuracy)"
   ]
  },
  {
   "cell_type": "code",
   "execution_count": 13,
   "metadata": {},
   "outputs": [
    {
     "data": {
      "text/plain": [
       "0.3118119527444193"
      ]
     },
     "execution_count": 13,
     "metadata": {},
     "output_type": "execute_result"
    }
   ],
   "source": [
    "lm = LinearRegression()\n",
    "model = lm.fit(X_train, y_train)\n",
    "# cross_val_score(model, X_test, y_test)\n",
    "model.score(X_test, y_test)\n"
   ]
  },
  {
   "cell_type": "code",
   "execution_count": 14,
   "metadata": {},
   "outputs": [
    {
     "data": {
      "text/plain": [
       "(array([38.02520624, 26.89892939, 33.27143514, ..., 29.32698665,\n",
       "        43.9368136 , 19.56430904]),\n",
       " array([58, 17, 42, ..., 18, 63, 24]))"
      ]
     },
     "execution_count": 14,
     "metadata": {},
     "output_type": "execute_result"
    }
   ],
   "source": [
    "y_pred = model.predict(X_test)\n",
    "y_pred,y_test"
   ]
  },
  {
   "cell_type": "code",
   "execution_count": 15,
   "metadata": {},
   "outputs": [
    {
     "name": "stdout",
     "output_type": "stream",
     "text": [
      "0.6307538474501901\n"
     ]
    }
   ],
   "source": [
    "# Code for Random Forest\n",
    "X_train, X_test, y_train, y_test = train_test_split(X, y, test_size=0.3)\n",
    "# create regressor object \n",
    "regressor = RandomForestRegressor(n_estimators = 100, random_state = 0,max_depth=2,min_samples_leaf = 3 ) \n",
    "  \n",
    "# fit the regressor with x and y data \n",
    "regressor.fit(X_train, y_train) \n",
    "accuracy = regressor.score(X_test, y_test)\n",
    "print(accuracy)"
   ]
  },
  {
   "cell_type": "code",
   "execution_count": null,
   "metadata": {},
   "outputs": [],
   "source": [
    "#Code for SVM\n",
    "#clf = svm.SVR(kernel=\"poly\")\n",
    "#clf.fit(X, y)\n",
    "X_train, X_test, y_train, y_test = train_test_split(X, y, test_size=0.2)\n",
    "clf = svm.SVC(kernel='linear')\n",
    "# cross_val_score(clf, X, y)\n",
    "clf.fit(X_train, y_train)\n",
    "accuracy = clf.score(X_test, y_test)\n",
    "print(accuracy)"
   ]
  },
  {
   "cell_type": "code",
   "execution_count": null,
   "metadata": {},
   "outputs": [],
   "source": []
  },
  {
   "cell_type": "code",
   "execution_count": null,
   "metadata": {},
   "outputs": [],
   "source": []
  },
  {
   "cell_type": "code",
   "execution_count": null,
   "metadata": {},
   "outputs": [],
   "source": []
  }
 ],
 "metadata": {
  "kernelspec": {
   "display_name": "Python 3",
   "language": "python",
   "name": "python3"
  },
  "language_info": {
   "codemirror_mode": {
    "name": "ipython",
    "version": 3
   },
   "file_extension": ".py",
   "mimetype": "text/x-python",
   "name": "python",
   "nbconvert_exporter": "python",
   "pygments_lexer": "ipython3",
   "version": "3.7.6"
  }
 },
 "nbformat": 4,
 "nbformat_minor": 2
}
