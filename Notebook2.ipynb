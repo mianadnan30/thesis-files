{
 "cells": [
  {
   "cell_type": "code",
   "execution_count": 1,
   "metadata": {},
   "outputs": [],
   "source": [
    "# Importing libraries\n",
    "import csv\n",
    "import pandas as pd\n",
    "import numpy as np\n",
    "from sklearn import linear_model, svm, preprocessing\n",
    "from sklearn.linear_model import LinearRegression, LogisticRegression\n",
    "import matplotlib.pyplot as plt\n",
    "import math\n",
    "from sklearn.model_selection import train_test_split\n",
    "from sklearn.model_selection import cross_val_score\n",
    "from sklearn.ensemble import RandomForestClassifier, RandomForestRegressor\n",
    "from sklearn.tree import DecisionTreeClassifier,DecisionTreeRegressor\n",
    "from sklearn.feature_selection import SelectKBest\n",
    "from sklearn.feature_selection import chi2"
   ]
  },
  {
   "cell_type": "code",
   "execution_count": 2,
   "metadata": {},
   "outputs": [],
   "source": [
    "# Reading the datasets\n",
    "data1 = pd.read_csv('wheat-2013-supervised.csv')\n",
    "data2 = pd.read_csv('wheat-2014-supervised.csv')\n",
    "# Merging two datasets\n",
    "merged = data1.append(data2, ignore_index=True)\n",
    "merged = merged[[\"CountyName\",\"State\",\"Latitude\",\"Longitude\",\"Date\",\"apparentTemperatureMax\",\"apparentTemperatureMin\",\"cloudCover\",\"dewPoint\",\"humidity\",\"precipIntensity\",\"precipIntensityMax\",\"precipProbability\",\"precipAccumulation\",\"precipTypeIsRain\",\"precipTypeIsSnow\",\"precipTypeIsOther\",\t\"pressure\",\t\"temperatureMax\",\"temperatureMin\",\"visibility\",\t\"windBearing\",\"windSpeed\",\"NDVI\",\"DayInSeason\",\"Yield\" ]]\n",
    "merged.to_csv('merged.csv', index=None, header=True)\n",
    "\n",
    "mg = pd.read_csv('merged.csv')\n",
    "mg = mg[[\"Latitude\",\"Longitude\",\"apparentTemperatureMax\",\"apparentTemperatureMin\",\"cloudCover\",\"dewPoint\",\"humidity\",\"precipIntensity\",\"precipIntensityMax\",\"precipProbability\",\"precipAccumulation\",\"precipTypeIsRain\",\"precipTypeIsSnow\",\"precipTypeIsOther\",\t\"pressure\",\t\"temperatureMax\",\"temperatureMin\",\"visibility\",\t\"windBearing\",\"windSpeed\",\"NDVI\",\"DayInSeason\",\"Yield\" ]]\n",
    "mg.dropna(inplace=True)\n",
    "mg = abs(mg)\n",
    "\n",
    "X = np.array(mg.drop([\"Yield\"],1))\n",
    "y = np.asarray(mg['Yield'],dtype= np.int64)\n"
   ]
  },
  {
   "cell_type": "code",
   "execution_count": 7,
   "metadata": {},
   "outputs": [
    {
     "data": {
      "text/plain": [
       "array([0.15850998, 0.19712724, 0.19283344, 0.20953988, 0.21961722])"
      ]
     },
     "execution_count": 7,
     "metadata": {},
     "output_type": "execute_result"
    }
   ],
   "source": [
    "from sklearn.model_selection import cross_validate\n",
    "lasso = linear_model.Lasso()\n",
    "cv_results = cross_validate(lasso, X, y, cv=5)\n",
    "\n",
    "cv_results['test_score']"
   ]
  },
  {
   "cell_type": "code",
   "execution_count": 8,
   "metadata": {},
   "outputs": [
    {
     "name": "stdout",
     "output_type": "stream",
     "text": [
      "0.34292397737766234\n"
     ]
    }
   ],
   "source": [
    "DT = DecisionTreeRegressor()\n",
    "cv_results = cross_val_score(DT, X, y, cv=5)\n",
    "print(cv_results.mean())"
   ]
  },
  {
   "cell_type": "code",
   "execution_count": 8,
   "metadata": {},
   "outputs": [
    {
     "data": {
      "text/plain": [
       "['fit_time',\n",
       " 'score_time',\n",
       " 'test_neg_mean_squared_error',\n",
       " 'test_r2',\n",
       " 'train_neg_mean_squared_error',\n",
       " 'train_r2']"
      ]
     },
     "execution_count": 8,
     "metadata": {},
     "output_type": "execute_result"
    }
   ],
   "source": [
    "sorted(cv_results.keys())"
   ]
  },
  {
   "cell_type": "code",
   "execution_count": 9,
   "metadata": {},
   "outputs": [
    {
     "name": "stdout",
     "output_type": "stream",
     "text": [
      "0.38908399533905935\n"
     ]
    }
   ],
   "source": [
    "regressor = RandomForestRegressor(n_estimators = 100, random_state = 0) \n",
    "  \n",
    "# fit the regressor with x and y data \n",
    "cv_results = cross_val_score(regressor, X, y, cv=5)\n",
    "print(cv_results.mean())"
   ]
  },
  {
   "cell_type": "code",
   "execution_count": 23,
   "metadata": {
    "scrolled": true
   },
   "outputs": [],
   "source": [
    "# IMPLEMENTING lSTM\n",
    "import numpy\n",
    "import matplotlib.pyplot as plt\n",
    "import pandas as pd\n",
    "import math\n",
    "from keras.models import Sequential\n",
    "from keras.layers import Dense\n",
    "from keras.layers import LSTM\n",
    "from sklearn.preprocessing import MinMaxScaler\n",
    "from sklearn.metrics import mean_squared_error"
   ]
  },
  {
   "cell_type": "code",
   "execution_count": 24,
   "metadata": {},
   "outputs": [],
   "source": [
    "# convert an array of values into a dataset matrix\n",
    "def create_dataset(dataset, look_back=1):\n",
    "    dataX, dataY = [], []\n",
    "    for i in range(len(dataset)-look_back-1):\n",
    "        a = dataset[i:(i+look_back), 0]\n",
    "        dataX.append(a)\n",
    "        dataY.append(dataset[i + look_back, 0])\n",
    "    return numpy.array(dataX), numpy.array(dataY)\n",
    "# fix random seed for reproducibility\n",
    "numpy.random.seed(7)"
   ]
  },
  {
   "cell_type": "code",
   "execution_count": 37,
   "metadata": {},
   "outputs": [],
   "source": [
    "# Reading the datasets\n",
    "data1 = pd.read_csv('wheat-2013-supervised.csv')\n",
    "data2 = pd.read_csv('wheat-2014-supervised.csv')\n",
    "# Merging two datasets\n",
    "merged = data1.append(data2, ignore_index=True)\n",
    "merged = merged[[\"CountyName\",\"State\",\"Latitude\",\"Longitude\",\"Date\",\"apparentTemperatureMax\",\"apparentTemperatureMin\",\"cloudCover\",\"dewPoint\",\"humidity\",\"precipIntensity\",\"precipIntensityMax\",\"precipProbability\",\"precipAccumulation\",\"precipTypeIsRain\",\"precipTypeIsSnow\",\"precipTypeIsOther\",\t\"pressure\",\t\"temperatureMax\",\"temperatureMin\",\"visibility\",\t\"windBearing\",\"windSpeed\",\"NDVI\",\"DayInSeason\",\"Yield\" ]]\n",
    "merged.to_csv('merged.csv', index=None, header=True)\n",
    "\n",
    "mg = pd.read_csv('merged.csv')\n",
    "mg = mg[[\"Latitude\",\"Longitude\",\"apparentTemperatureMax\",\"apparentTemperatureMin\",\"cloudCover\",\"dewPoint\",\"humidity\",\"precipIntensity\",\"precipIntensityMax\",\"precipProbability\",\"precipAccumulation\",\"precipTypeIsRain\",\"precipTypeIsSnow\",\"precipTypeIsOther\",\t\"pressure\",\t\"temperatureMax\",\"temperatureMin\",\"visibility\",\t\"windBearing\",\"windSpeed\",\"NDVI\",\"DayInSeason\",\"Yield\" ]]\n",
    "mg.dropna(inplace=True)\n",
    "dataset = abs(mg)"
   ]
  },
  {
   "cell_type": "code",
   "execution_count": 44,
   "metadata": {},
   "outputs": [],
   "source": [
    "dataset = dataset[1:10000]"
   ]
  },
  {
   "cell_type": "code",
   "execution_count": 45,
   "metadata": {},
   "outputs": [],
   "source": [
    "# normalize the dataset\n",
    "scaler = MinMaxScaler(feature_range=(0, 1))\n",
    "dataset = scaler.fit_transform(dataset)\n",
    "dataset = dataset.astype('float32')\n"
   ]
  },
  {
   "cell_type": "code",
   "execution_count": 171,
   "metadata": {},
   "outputs": [],
   "source": [
    "# split into train and test sets\n",
    "train_size = int(len(dataset) * 0.67)\n",
    "test_size = len(dataset) - train_size\n",
    "train, test = dataset[0:train_size,:], dataset[train_size:len(dataset),:]\n",
    "look_back = 3\n",
    "trainX, trainY = create_dataset(train, look_back)\n",
    "testX, testY = create_dataset(test, look_back)\n",
    "# trainX,testX, trainY, testY = train_test_split(train,test)\n",
    "# reshape input \n",
    "trainX = numpy.reshape(trainX, (trainX.shape[0], 1, trainX.shape[1]))\n",
    "testX = numpy.reshape(testX, (testX.shape[0], 1, testX.shape[1]))"
   ]
  },
  {
   "cell_type": "code",
   "execution_count": 185,
   "metadata": {},
   "outputs": [
    {
     "data": {
      "text/plain": [
       "3300"
      ]
     },
     "execution_count": 185,
     "metadata": {},
     "output_type": "execute_result"
    }
   ],
   "source": [
    "len(dataset) - train_size"
   ]
  },
  {
   "cell_type": "code",
   "execution_count": 160,
   "metadata": {},
   "outputs": [
    {
     "data": {
      "text/plain": [
       "((3296, 3), (6695, 3), (3296,), (6695,))"
      ]
     },
     "execution_count": 160,
     "metadata": {},
     "output_type": "execute_result"
    }
   ],
   "source": [
    "testX.shape,trainX.shape,testY.shape,trainY.shape"
   ]
  },
  {
   "cell_type": "code",
   "execution_count": 248,
   "metadata": {},
   "outputs": [],
   "source": [
    "# create and fit the LSTM network\n",
    "model = Sequential()\n",
    "model.add(LSTM(1, input_shape=(None, look_back)))\n",
    "model.add(Dense(1))\n",
    "model.compile(loss='mean_squared_error', optimizer='adam', metrics=['accuracy'])\n"
   ]
  },
  {
   "cell_type": "code",
   "execution_count": 249,
   "metadata": {},
   "outputs": [
    {
     "name": "stdout",
     "output_type": "stream",
     "text": [
      "Model: \"sequential_18\"\n",
      "_________________________________________________________________\n",
      "Layer (type)                 Output Shape              Param #   \n",
      "=================================================================\n",
      "lstm_18 (LSTM)               (None, 1)                 20        \n",
      "_________________________________________________________________\n",
      "dense_1 (Dense)              (None, 1)                 2         \n",
      "=================================================================\n",
      "Total params: 22\n",
      "Trainable params: 22\n",
      "Non-trainable params: 0\n",
      "_________________________________________________________________\n"
     ]
    }
   ],
   "source": [
    "model.summary()"
   ]
  },
  {
   "cell_type": "code",
   "execution_count": 250,
   "metadata": {},
   "outputs": [
    {
     "name": "stdout",
     "output_type": "stream",
     "text": [
      "Epoch 1/100\n",
      "210/210 [==============================] - 1s 6ms/step - loss: 0.1759 - accuracy: 0.0010 - val_loss: 0.0901 - val_accuracy: 9.1019e-04\n",
      "Epoch 2/100\n",
      "210/210 [==============================] - 1s 3ms/step - loss: 0.0554 - accuracy: 0.0015 - val_loss: 0.0427 - val_accuracy: 0.0015\n",
      "Epoch 3/100\n",
      "210/210 [==============================] - 1s 3ms/step - loss: 0.0409 - accuracy: 0.0013 - val_loss: 0.0402 - val_accuracy: 9.1019e-04\n",
      "Epoch 4/100\n",
      "210/210 [==============================] - 1s 3ms/step - loss: 0.0389 - accuracy: 0.0010 - val_loss: 0.0381 - val_accuracy: 9.1019e-04\n",
      "Epoch 5/100\n",
      "210/210 [==============================] - 1s 3ms/step - loss: 0.0368 - accuracy: 0.0010 - val_loss: 0.0360 - val_accuracy: 9.1019e-04\n",
      "Epoch 6/100\n",
      "210/210 [==============================] - 1s 3ms/step - loss: 0.0346 - accuracy: 0.0010 - val_loss: 0.0338 - val_accuracy: 9.1019e-04\n",
      "Epoch 7/100\n",
      "210/210 [==============================] - 1s 3ms/step - loss: 0.0325 - accuracy: 0.0010 - val_loss: 0.0317 - val_accuracy: 9.1019e-04\n",
      "Epoch 8/100\n",
      "210/210 [==============================] - 1s 3ms/step - loss: 0.0304 - accuracy: 0.0010 - val_loss: 0.0296 - val_accuracy: 9.1019e-04\n",
      "Epoch 9/100\n",
      "210/210 [==============================] - 1s 3ms/step - loss: 0.0284 - accuracy: 0.0010 - val_loss: 0.0277 - val_accuracy: 9.1019e-04\n",
      "Epoch 10/100\n",
      "210/210 [==============================] - 1s 3ms/step - loss: 0.0266 - accuracy: 0.0010 - val_loss: 0.0260 - val_accuracy: 9.1019e-04\n",
      "Epoch 11/100\n",
      "210/210 [==============================] - 1s 3ms/step - loss: 0.0250 - accuracy: 0.0010 - val_loss: 0.0245 - val_accuracy: 9.1019e-04\n",
      "Epoch 12/100\n",
      "210/210 [==============================] - 1s 3ms/step - loss: 0.0236 - accuracy: 0.0010 - val_loss: 0.0233 - val_accuracy: 9.1019e-04\n",
      "Epoch 13/100\n",
      "210/210 [==============================] - 1s 2ms/step - loss: 0.0225 - accuracy: 0.0010 - val_loss: 0.0221 - val_accuracy: 9.1019e-04\n",
      "Epoch 14/100\n",
      "210/210 [==============================] - 1s 3ms/step - loss: 0.0215 - accuracy: 0.0010 - val_loss: 0.0213 - val_accuracy: 9.1019e-04\n",
      "Epoch 15/100\n",
      "210/210 [==============================] - 1s 3ms/step - loss: 0.0207 - accuracy: 0.0010 - val_loss: 0.0205 - val_accuracy: 9.1019e-04\n",
      "Epoch 16/100\n",
      "210/210 [==============================] - 1s 3ms/step - loss: 0.0200 - accuracy: 0.0010 - val_loss: 0.0199 - val_accuracy: 9.1019e-04\n",
      "Epoch 17/100\n",
      "210/210 [==============================] - 1s 3ms/step - loss: 0.0195 - accuracy: 0.0010 - val_loss: 0.0195 - val_accuracy: 9.1019e-04\n",
      "Epoch 18/100\n",
      "210/210 [==============================] - 1s 3ms/step - loss: 0.0191 - accuracy: 0.0010 - val_loss: 0.0191 - val_accuracy: 9.1019e-04\n",
      "Epoch 19/100\n",
      "210/210 [==============================] - 1s 3ms/step - loss: 0.0188 - accuracy: 0.0010 - val_loss: 0.0188 - val_accuracy: 9.1019e-04\n",
      "Epoch 20/100\n",
      "210/210 [==============================] - 1s 3ms/step - loss: 0.0185 - accuracy: 0.0010 - val_loss: 0.0186 - val_accuracy: 9.1019e-04\n",
      "Epoch 21/100\n",
      "210/210 [==============================] - 1s 3ms/step - loss: 0.0184 - accuracy: 0.0010 - val_loss: 0.0185 - val_accuracy: 9.1019e-04\n",
      "Epoch 22/100\n",
      "210/210 [==============================] - 1s 3ms/step - loss: 0.0182 - accuracy: 0.0010 - val_loss: 0.0184 - val_accuracy: 9.1019e-04\n",
      "Epoch 23/100\n",
      "210/210 [==============================] - 1s 3ms/step - loss: 0.0181 - accuracy: 0.0010 - val_loss: 0.0183 - val_accuracy: 9.1019e-04\n",
      "Epoch 24/100\n",
      "210/210 [==============================] - 1s 3ms/step - loss: 0.0181 - accuracy: 0.0010 - val_loss: 0.0183 - val_accuracy: 9.1019e-04\n",
      "Epoch 25/100\n",
      "210/210 [==============================] - 1s 3ms/step - loss: 0.0180 - accuracy: 0.0010 - val_loss: 0.0181 - val_accuracy: 9.1019e-04\n",
      "Epoch 26/100\n",
      "210/210 [==============================] - 1s 3ms/step - loss: 0.0179 - accuracy: 0.0010 - val_loss: 0.0181 - val_accuracy: 9.1019e-04\n",
      "Epoch 27/100\n",
      "210/210 [==============================] - 1s 3ms/step - loss: 0.0179 - accuracy: 0.0010 - val_loss: 0.0181 - val_accuracy: 9.1019e-04\n",
      "Epoch 28/100\n",
      "210/210 [==============================] - 1s 3ms/step - loss: 0.0178 - accuracy: 0.0010 - val_loss: 0.0180 - val_accuracy: 9.1019e-04\n",
      "Epoch 29/100\n",
      "210/210 [==============================] - 1s 3ms/step - loss: 0.0178 - accuracy: 0.0010 - val_loss: 0.0180 - val_accuracy: 9.1019e-04\n",
      "Epoch 30/100\n",
      "210/210 [==============================] - 1s 3ms/step - loss: 0.0178 - accuracy: 0.0010 - val_loss: 0.0180 - val_accuracy: 9.1019e-04\n",
      "Epoch 31/100\n",
      "210/210 [==============================] - 1s 3ms/step - loss: 0.0178 - accuracy: 0.0010 - val_loss: 0.0180 - val_accuracy: 9.1019e-04\n",
      "Epoch 32/100\n",
      "210/210 [==============================] - 1s 3ms/step - loss: 0.0178 - accuracy: 0.0010 - val_loss: 0.0181 - val_accuracy: 9.1019e-04\n",
      "Epoch 33/100\n",
      "210/210 [==============================] - 1s 3ms/step - loss: 0.0178 - accuracy: 0.0010 - val_loss: 0.0180 - val_accuracy: 9.1019e-04\n",
      "Epoch 34/100\n",
      "210/210 [==============================] - 1s 3ms/step - loss: 0.0177 - accuracy: 0.0010 - val_loss: 0.0180 - val_accuracy: 9.1019e-04\n",
      "Epoch 35/100\n",
      "210/210 [==============================] - 1s 2ms/step - loss: 0.0177 - accuracy: 0.0010 - val_loss: 0.0179 - val_accuracy: 9.1019e-04\n",
      "Epoch 36/100\n",
      "210/210 [==============================] - 1s 3ms/step - loss: 0.0177 - accuracy: 0.0010 - val_loss: 0.0180 - val_accuracy: 9.1019e-04\n",
      "Epoch 37/100\n",
      "210/210 [==============================] - 1s 3ms/step - loss: 0.0177 - accuracy: 0.0010 - val_loss: 0.0180 - val_accuracy: 9.1019e-04\n",
      "Epoch 38/100\n",
      "210/210 [==============================] - 1s 2ms/step - loss: 0.0177 - accuracy: 0.0010 - val_loss: 0.0179 - val_accuracy: 9.1019e-04\n",
      "Epoch 39/100\n",
      "210/210 [==============================] - 1s 3ms/step - loss: 0.0177 - accuracy: 0.0010 - val_loss: 0.0179 - val_accuracy: 9.1019e-04\n",
      "Epoch 40/100\n",
      "210/210 [==============================] - 1s 3ms/step - loss: 0.0177 - accuracy: 0.0010 - val_loss: 0.0179 - val_accuracy: 9.1019e-04\n",
      "Epoch 41/100\n",
      "210/210 [==============================] - 1s 3ms/step - loss: 0.0177 - accuracy: 0.0010 - val_loss: 0.0179 - val_accuracy: 9.1019e-04\n",
      "Epoch 42/100\n",
      "210/210 [==============================] - 1s 3ms/step - loss: 0.0177 - accuracy: 0.0010 - val_loss: 0.0179 - val_accuracy: 9.1019e-04\n",
      "Epoch 43/100\n",
      "210/210 [==============================] - 1s 3ms/step - loss: 0.0177 - accuracy: 0.0010 - val_loss: 0.0179 - val_accuracy: 9.1019e-04\n",
      "Epoch 44/100\n",
      "210/210 [==============================] - 1s 2ms/step - loss: 0.0177 - accuracy: 0.0010 - val_loss: 0.0179 - val_accuracy: 9.1019e-04\n",
      "Epoch 45/100\n",
      "210/210 [==============================] - 1s 3ms/step - loss: 0.0176 - accuracy: 0.0010 - val_loss: 0.0179 - val_accuracy: 9.1019e-04\n",
      "Epoch 46/100\n",
      "210/210 [==============================] - 1s 3ms/step - loss: 0.0176 - accuracy: 0.0010 - val_loss: 0.0179 - val_accuracy: 9.1019e-04\n",
      "Epoch 47/100\n",
      "210/210 [==============================] - 1s 3ms/step - loss: 0.0176 - accuracy: 0.0010 - val_loss: 0.0179 - val_accuracy: 9.1019e-04\n",
      "Epoch 48/100\n",
      "210/210 [==============================] - 1s 3ms/step - loss: 0.0176 - accuracy: 0.0010 - val_loss: 0.0179 - val_accuracy: 9.1019e-04\n",
      "Epoch 49/100\n",
      "210/210 [==============================] - 1s 3ms/step - loss: 0.0176 - accuracy: 0.0010 - val_loss: 0.0179 - val_accuracy: 9.1019e-04\n",
      "Epoch 50/100\n",
      "210/210 [==============================] - 1s 3ms/step - loss: 0.0176 - accuracy: 0.0010 - val_loss: 0.0180 - val_accuracy: 9.1019e-04\n",
      "Epoch 51/100\n",
      "210/210 [==============================] - 1s 3ms/step - loss: 0.0176 - accuracy: 0.0010 - val_loss: 0.0179 - val_accuracy: 9.1019e-04\n",
      "Epoch 52/100\n",
      "210/210 [==============================] - 1s 3ms/step - loss: 0.0176 - accuracy: 0.0010 - val_loss: 0.0179 - val_accuracy: 9.1019e-04\n",
      "Epoch 53/100\n",
      "210/210 [==============================] - 1s 3ms/step - loss: 0.0177 - accuracy: 0.0010 - val_loss: 0.0179 - val_accuracy: 9.1019e-04\n",
      "Epoch 54/100\n",
      "210/210 [==============================] - 1s 3ms/step - loss: 0.0176 - accuracy: 0.0010 - val_loss: 0.0179 - val_accuracy: 9.1019e-04\n",
      "Epoch 55/100\n",
      "210/210 [==============================] - 1s 3ms/step - loss: 0.0176 - accuracy: 0.0010 - val_loss: 0.0179 - val_accuracy: 9.1019e-04\n",
      "Epoch 56/100\n",
      "210/210 [==============================] - 1s 3ms/step - loss: 0.0176 - accuracy: 0.0010 - val_loss: 0.0180 - val_accuracy: 9.1019e-04\n",
      "Epoch 57/100\n",
      "210/210 [==============================] - 1s 2ms/step - loss: 0.0176 - accuracy: 0.0010 - val_loss: 0.0179 - val_accuracy: 9.1019e-04\n",
      "Epoch 58/100\n",
      "210/210 [==============================] - 1s 3ms/step - loss: 0.0176 - accuracy: 0.0010 - val_loss: 0.0181 - val_accuracy: 9.1019e-04\n",
      "Epoch 59/100\n",
      "210/210 [==============================] - 1s 3ms/step - loss: 0.0177 - accuracy: 0.0010 - val_loss: 0.0179 - val_accuracy: 9.1019e-04\n",
      "Epoch 60/100\n",
      "210/210 [==============================] - 1s 3ms/step - loss: 0.0176 - accuracy: 0.0010 - val_loss: 0.0179 - val_accuracy: 9.1019e-04\n",
      "Epoch 61/100\n",
      "210/210 [==============================] - 1s 3ms/step - loss: 0.0176 - accuracy: 0.0010 - val_loss: 0.0181 - val_accuracy: 6.0680e-04\n",
      "Epoch 62/100\n",
      "210/210 [==============================] - 1s 3ms/step - loss: 0.0176 - accuracy: 0.0010 - val_loss: 0.0179 - val_accuracy: 9.1019e-04\n",
      "Epoch 63/100\n",
      "210/210 [==============================] - 1s 3ms/step - loss: 0.0176 - accuracy: 0.0010 - val_loss: 0.0179 - val_accuracy: 9.1019e-04\n",
      "Epoch 64/100\n",
      "210/210 [==============================] - 1s 3ms/step - loss: 0.0176 - accuracy: 0.0010 - val_loss: 0.0179 - val_accuracy: 9.1019e-04\n",
      "Epoch 65/100\n",
      "210/210 [==============================] - 1s 3ms/step - loss: 0.0176 - accuracy: 0.0010 - val_loss: 0.0180 - val_accuracy: 9.1019e-04\n",
      "Epoch 66/100\n",
      "210/210 [==============================] - 1s 3ms/step - loss: 0.0176 - accuracy: 0.0010 - val_loss: 0.0179 - val_accuracy: 9.1019e-04\n",
      "Epoch 67/100\n",
      "210/210 [==============================] - 1s 3ms/step - loss: 0.0176 - accuracy: 0.0010 - val_loss: 0.0180 - val_accuracy: 9.1019e-04\n",
      "Epoch 68/100\n",
      "210/210 [==============================] - 1s 2ms/step - loss: 0.0176 - accuracy: 0.0010 - val_loss: 0.0179 - val_accuracy: 9.1019e-04\n",
      "Epoch 69/100\n",
      "210/210 [==============================] - 1s 3ms/step - loss: 0.0176 - accuracy: 0.0010 - val_loss: 0.0180 - val_accuracy: 9.1019e-04\n",
      "Epoch 70/100\n",
      "210/210 [==============================] - 1s 2ms/step - loss: 0.0176 - accuracy: 0.0010 - val_loss: 0.0179 - val_accuracy: 9.1019e-04\n",
      "Epoch 71/100\n",
      "210/210 [==============================] - 1s 2ms/step - loss: 0.0176 - accuracy: 0.0010 - val_loss: 0.0179 - val_accuracy: 9.1019e-04\n",
      "Epoch 72/100\n",
      "210/210 [==============================] - 1s 3ms/step - loss: 0.0176 - accuracy: 0.0010 - val_loss: 0.0180 - val_accuracy: 9.1019e-04\n",
      "Epoch 73/100\n",
      "210/210 [==============================] - 1s 3ms/step - loss: 0.0176 - accuracy: 0.0010 - val_loss: 0.0179 - val_accuracy: 9.1019e-04\n",
      "Epoch 74/100\n",
      "210/210 [==============================] - 1s 3ms/step - loss: 0.0176 - accuracy: 0.0010 - val_loss: 0.0179 - val_accuracy: 9.1019e-04\n",
      "Epoch 75/100\n",
      "210/210 [==============================] - 1s 3ms/step - loss: 0.0176 - accuracy: 0.0010 - val_loss: 0.0179 - val_accuracy: 9.1019e-04\n",
      "Epoch 76/100\n",
      "210/210 [==============================] - 1s 3ms/step - loss: 0.0176 - accuracy: 0.0010 - val_loss: 0.0179 - val_accuracy: 9.1019e-04\n",
      "Epoch 77/100\n",
      "210/210 [==============================] - 1s 3ms/step - loss: 0.0176 - accuracy: 0.0010 - val_loss: 0.0179 - val_accuracy: 9.1019e-04\n",
      "Epoch 78/100\n",
      "210/210 [==============================] - 1s 3ms/step - loss: 0.0176 - accuracy: 0.0010 - val_loss: 0.0179 - val_accuracy: 9.1019e-04\n",
      "Epoch 79/100\n",
      "210/210 [==============================] - 1s 4ms/step - loss: 0.0176 - accuracy: 0.0010 - val_loss: 0.0179 - val_accuracy: 9.1019e-04\n",
      "Epoch 80/100\n",
      "210/210 [==============================] - 1s 3ms/step - loss: 0.0176 - accuracy: 0.0010 - val_loss: 0.0179 - val_accuracy: 9.1019e-04\n",
      "Epoch 81/100\n",
      "210/210 [==============================] - 1s 3ms/step - loss: 0.0176 - accuracy: 0.0010 - val_loss: 0.0179 - val_accuracy: 9.1019e-04\n",
      "Epoch 82/100\n",
      "210/210 [==============================] - 1s 3ms/step - loss: 0.0176 - accuracy: 0.0010 - val_loss: 0.0179 - val_accuracy: 9.1019e-04\n",
      "Epoch 83/100\n",
      "210/210 [==============================] - 1s 3ms/step - loss: 0.0176 - accuracy: 0.0010 - val_loss: 0.0179 - val_accuracy: 9.1019e-04\n",
      "Epoch 84/100\n",
      "210/210 [==============================] - 1s 3ms/step - loss: 0.0176 - accuracy: 0.0010 - val_loss: 0.0179 - val_accuracy: 9.1019e-04\n",
      "Epoch 85/100\n",
      "210/210 [==============================] - 1s 3ms/step - loss: 0.0176 - accuracy: 0.0010 - val_loss: 0.0179 - val_accuracy: 9.1019e-04\n",
      "Epoch 86/100\n",
      "210/210 [==============================] - 1s 3ms/step - loss: 0.0176 - accuracy: 0.0010 - val_loss: 0.0179 - val_accuracy: 9.1019e-04\n",
      "Epoch 87/100\n",
      "210/210 [==============================] - 1s 4ms/step - loss: 0.0176 - accuracy: 0.0010 - val_loss: 0.0179 - val_accuracy: 9.1019e-04\n",
      "Epoch 88/100\n",
      "210/210 [==============================] - 1s 4ms/step - loss: 0.0176 - accuracy: 0.0010 - val_loss: 0.0179 - val_accuracy: 9.1019e-04\n",
      "Epoch 89/100\n",
      "210/210 [==============================] - 1s 3ms/step - loss: 0.0176 - accuracy: 0.0010 - val_loss: 0.0179 - val_accuracy: 9.1019e-04\n",
      "Epoch 90/100\n",
      "210/210 [==============================] - 1s 2ms/step - loss: 0.0176 - accuracy: 0.0010 - val_loss: 0.0181 - val_accuracy: 9.1019e-04\n",
      "Epoch 91/100\n",
      "210/210 [==============================] - 1s 3ms/step - loss: 0.0176 - accuracy: 0.0010 - val_loss: 0.0179 - val_accuracy: 9.1019e-04\n",
      "Epoch 92/100\n",
      "210/210 [==============================] - 1s 3ms/step - loss: 0.0176 - accuracy: 0.0010 - val_loss: 0.0179 - val_accuracy: 9.1019e-04\n",
      "Epoch 93/100\n",
      "210/210 [==============================] - 1s 4ms/step - loss: 0.0176 - accuracy: 0.0010 - val_loss: 0.0179 - val_accuracy: 9.1019e-04\n",
      "Epoch 94/100\n",
      "210/210 [==============================] - 1s 3ms/step - loss: 0.0176 - accuracy: 0.0010 - val_loss: 0.0179 - val_accuracy: 9.1019e-04\n",
      "Epoch 95/100\n",
      "210/210 [==============================] - 1s 3ms/step - loss: 0.0176 - accuracy: 0.0010 - val_loss: 0.0180 - val_accuracy: 9.1019e-04\n",
      "Epoch 96/100\n",
      "210/210 [==============================] - 1s 2ms/step - loss: 0.0176 - accuracy: 0.0010 - val_loss: 0.0179 - val_accuracy: 9.1019e-04\n",
      "Epoch 97/100\n",
      "210/210 [==============================] - 1s 3ms/step - loss: 0.0176 - accuracy: 0.0010 - val_loss: 0.0179 - val_accuracy: 9.1019e-04\n",
      "Epoch 98/100\n",
      "210/210 [==============================] - 1s 3ms/step - loss: 0.0176 - accuracy: 0.0010 - val_loss: 0.0179 - val_accuracy: 9.1019e-04\n",
      "Epoch 99/100\n",
      "210/210 [==============================] - 1s 4ms/step - loss: 0.0176 - accuracy: 0.0010 - val_loss: 0.0179 - val_accuracy: 9.1019e-04\n",
      "Epoch 100/100\n",
      "210/210 [==============================] - 1s 3ms/step - loss: 0.0176 - accuracy: 0.0010 - val_loss: 0.0179 - val_accuracy: 9.1019e-04\n"
     ]
    }
   ],
   "source": [
    "history = model.fit(trainX, trainY, epochs=100,validation_data =(testX, testY) )\n"
   ]
  },
  {
   "cell_type": "code",
   "execution_count": 266,
   "metadata": {},
   "outputs": [
    {
     "data": {
      "text/plain": [
       "(3296, 1)"
      ]
     },
     "execution_count": 266,
     "metadata": {},
     "output_type": "execute_result"
    }
   ],
   "source": [
    "trainpredict = model.predict(trainX)\n",
    "results = model.predict(testX)\n",
    "results.shape"
   ]
  },
  {
   "cell_type": "code",
   "execution_count": 267,
   "metadata": {},
   "outputs": [],
   "source": [
    "# reshape output \n",
    "trainY = numpy.reshape(trainY, (trainY.shape[0], 1))\n",
    "testY = numpy.reshape(testY, (testY.shape[0], 1))"
   ]
  },
  {
   "cell_type": "code",
   "execution_count": 256,
   "metadata": {},
   "outputs": [
    {
     "data": {
      "image/png": "[encoded data removed]",
      "text/plain": [
       "<Figure size 432x288 with 1 Axes>"
      ]
     },
     "metadata": {
      "needs_background": "light"
     },
     "output_type": "display_data"
    }
   ],
   "source": [
    "# Plotting the loss to see where it converges and goes constant\n",
    "plt.plot(history.history['loss'])\n",
    "plt.show()"
   ]
  },
  {
   "cell_type": "code",
   "execution_count": 265,
   "metadata": {},
   "outputs": [
    {
     "data": {
      "text/plain": [
       "0.4623326361179352"
      ]
     },
     "execution_count": 265,
     "metadata": {},
     "output_type": "execute_result"
    }
   ],
   "source": [
    "accuracy = (numpy.mean(testY)+numpy.mean(results))/2\n",
    "accuracy"
   ]
  },
  {
   "cell_type": "code",
   "execution_count": 254,
   "metadata": {},
   "outputs": [
    {
     "data": {
      "text/html": [
       "<div>\n",
       "<style scoped>\n",
       "    .dataframe tbody tr th:only-of-type {\n",
       "        vertical-align: middle;\n",
       "    }\n",
       "\n",
       "    .dataframe tbody tr th {\n",
       "        vertical-align: top;\n",
       "    }\n",
       "\n",
       "    .dataframe thead th {\n",
       "        text-align: right;\n",
       "    }\n",
       "</style>\n",
       "<table border=\"1\" class=\"dataframe\">\n",
       "  <thead>\n",
       "    <tr style=\"text-align: right;\">\n",
       "      <th></th>\n",
       "      <th>Predicted Values</th>\n",
       "      <th>Actual Values</th>\n",
       "    </tr>\n",
       "  </thead>\n",
       "  <tbody>\n",
       "    <tr>\n",
       "      <th>0</th>\n",
       "      <td>0.418921</td>\n",
       "      <td>0.418582</td>\n",
       "    </tr>\n",
       "    <tr>\n",
       "      <th>1</th>\n",
       "      <td>0.424129</td>\n",
       "      <td>0.432072</td>\n",
       "    </tr>\n",
       "    <tr>\n",
       "      <th>2</th>\n",
       "      <td>0.436413</td>\n",
       "      <td>0.356780</td>\n",
       "    </tr>\n",
       "    <tr>\n",
       "      <th>3</th>\n",
       "      <td>0.370048</td>\n",
       "      <td>0.350196</td>\n",
       "    </tr>\n",
       "    <tr>\n",
       "      <th>4</th>\n",
       "      <td>0.363543</td>\n",
       "      <td>0.358583</td>\n",
       "    </tr>\n",
       "    <tr>\n",
       "      <th>...</th>\n",
       "      <td>...</td>\n",
       "      <td>...</td>\n",
       "    </tr>\n",
       "    <tr>\n",
       "      <th>3291</th>\n",
       "      <td>0.519104</td>\n",
       "      <td>0.530570</td>\n",
       "    </tr>\n",
       "    <tr>\n",
       "      <th>3292</th>\n",
       "      <td>0.519200</td>\n",
       "      <td>0.528790</td>\n",
       "    </tr>\n",
       "    <tr>\n",
       "      <th>3293</th>\n",
       "      <td>0.517622</td>\n",
       "      <td>0.528073</td>\n",
       "    </tr>\n",
       "    <tr>\n",
       "      <th>3294</th>\n",
       "      <td>0.516906</td>\n",
       "      <td>0.993604</td>\n",
       "    </tr>\n",
       "    <tr>\n",
       "      <th>3295</th>\n",
       "      <td>0.953160</td>\n",
       "      <td>0.995979</td>\n",
       "    </tr>\n",
       "  </tbody>\n",
       "</table>\n",
       "<p>3296 rows × 2 columns</p>\n",
       "</div>"
      ],
      "text/plain": [
       "      Predicted Values  Actual Values\n",
       "0             0.418921       0.418582\n",
       "1             0.424129       0.432072\n",
       "2             0.436413       0.356780\n",
       "3             0.370048       0.350196\n",
       "4             0.363543       0.358583\n",
       "...                ...            ...\n",
       "3291          0.519104       0.530570\n",
       "3292          0.519200       0.528790\n",
       "3293          0.517622       0.528073\n",
       "3294          0.516906       0.993604\n",
       "3295          0.953160       0.995979\n",
       "\n",
       "[3296 rows x 2 columns]"
      ]
     },
     "execution_count": 254,
     "metadata": {},
     "output_type": "execute_result"
    }
   ],
   "source": [
    "# plt.xlim(0,1)\n",
    "# plt.ylim(0,0.7)\n",
    "# plt.scatter(range(20),results, color=['red'])\n",
    "# plt.scatter(range(20),testY, c='g')\n",
    "\n",
    "# plt.scatter(testY, results, color=['red'])\n",
    "# plt.show()\n",
    "# df =pd.DataFrame([testY, results],columns=['a','b'],index=['k','p']).round()\n",
    "# numpy_data = numpy.array([[1, 2], [3, 4]])\n",
    "df = pd.DataFrame(data=results, columns=[\"Predicted Values\"])\n",
    "df[\"Actual Values\"] = testY\n",
    "# testY.shape,results.shape\n",
    "df\n"
   ]
  },
  {
   "cell_type": "code",
   "execution_count": 269,
   "metadata": {},
   "outputs": [
    {
     "name": "stdout",
     "output_type": "stream",
     "text": [
      "Train Score: 0.13 RMSE\n",
      "Test Score: 0.13 RMSE\n"
     ]
    }
   ],
   "source": [
    "# calculate root mean squared error\n",
    "trainScore = math.sqrt(mean_squared_error(trainY, trainPredict))\n",
    "print('Train Score: %.2f RMSE' % (trainScore))\n",
    "testScore = math.sqrt(mean_squared_error(testY, results))\n",
    "print('Test Score: %.2f RMSE' % (testScore))"
   ]
  },
  {
   "cell_type": "code",
   "execution_count": null,
   "metadata": {},
   "outputs": [],
   "source": []
  }
 ],
 "metadata": {
  "kernelspec": {
   "display_name": "Python 3",
   "language": "python",
   "name": "python3"
  },
  "language_info": {
   "codemirror_mode": {
    "name": "ipython",
    "version": 3
   },
   "file_extension": ".py",
   "mimetype": "text/x-python",
   "name": "python",
   "nbconvert_exporter": "python",
   "pygments_lexer": "ipython3",
   "version": "3.7.6"
  }
 },
 "nbformat": 4,
 "nbformat_minor": 2
}
